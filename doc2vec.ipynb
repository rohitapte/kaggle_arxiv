{
 "cells": [
  {
   "cell_type": "code",
   "execution_count": 1,
   "id": "82203eef",
   "metadata": {},
   "outputs": [],
   "source": [
    "from data_utilities import load_data,get_all_categories\n",
    "from GensimResearchCorpus import GensimResearchCorpus,ResearchCorpus\n",
    "import gensim\n",
    "import collections"
   ]
  },
  {
   "cell_type": "code",
   "execution_count": 4,
   "id": "033aa95a",
   "metadata": {},
   "outputs": [
    {
     "name": "stdout",
     "output_type": "stream",
     "text": [
      "1901596\n",
      "1901600\n"
     ]
    }
   ],
   "source": [
    "unique_ids,data=load_data()\n",
    "print(len(unique_ids))\n",
    "print(len(data))"
   ]
  },
  {
   "cell_type": "code",
   "execution_count": 3,
   "id": "bea094f7",
   "metadata": {},
   "outputs": [
    {
     "name": "stdout",
     "output_type": "stream",
     "text": [
      "5143\n"
     ]
    }
   ],
   "source": [
    "new_data={}\n",
    "for item in data:\n",
    "    if 'cs.CG' in data[item]['categories']:\n",
    "        new_data[item]=data[item]\n",
    "data=[]\n",
    "for item in new_data:\n",
    "    data.append(new_data[item])\n",
    "print(len(data))"
   ]
  },
  {
   "cell_type": "code",
   "execution_count": 2,
   "id": "76eada00",
   "metadata": {
    "scrolled": true
   },
   "outputs": [
    {
     "name": "stdout",
     "output_type": "stream",
     "text": [
      "TaggedDocument(['we', 'describe', 'a', 'new', 'algorithm', ',', 'the', '_equation_-pebble', 'game', 'with', 'colors', ',', 'and', 'use', 'it', 'obtain', 'a', 'characterization', 'of', 'the', 'family', 'of', '_equation_-sparse', 'graphs', 'and', 'algorithmic', 'solutions', 'to', 'a', 'family', 'of', 'problems', 'concerning', 'tree', 'decompositions', 'of', 'graphs', '.', 'special', 'instances', 'of', 'sparse', 'graphs', 'appear', 'in', 'rigidity', 'theory', 'and', 'have', 'received', 'increased', 'attention', 'in', 'recent', 'years', '.', 'in', 'particular', ',', 'our', 'colored', 'pebbles', 'generalize', 'and', 'strengthen', 'the', 'previous', 'results', 'of', 'lee', 'and', 'streinu', 'and', 'give', 'a', 'new', 'proof', 'of', 'the', 'tutte-nash-williams', 'characterization', 'of', 'arboricity', '.', 'we', 'also', 'present', 'a', 'new', 'decomposition', 'that', 'certifies', 'sparsity', 'based', 'on', 'the', '_equation_-pebble', 'game', 'with', 'colors', '.', 'our', 'work', 'also', 'exposes', 'connections', 'between', 'pebble', 'game', 'algorithms', 'and', 'previous', 'sparse', 'graph', 'algorithms', 'by', 'gabow', ',', 'gabow', 'and', 'westermann', 'and', 'hendrickson', '.'], [1])\n"
     ]
    }
   ],
   "source": [
    "mycorpus=GensimResearchCorpus(filterCategory='cs.CG')\n",
    "for item in mycorpus:\n",
    "    print(item)\n",
    "    break"
   ]
  },
  {
   "cell_type": "code",
   "execution_count": 3,
   "id": "d6710390",
   "metadata": {},
   "outputs": [
    {
     "name": "stdout",
     "output_type": "stream",
     "text": [
      "{'id': '0704.0021', 'submitter': 'Yuichi Togashi', 'authors': 'Vanessa Casagrande, Yuichi Togashi, Alexander S. Mikhailov', 'title': 'Molecular Synchronization Waves in Arrays of Allosterically Regulated\\n  Enzymes', 'comments': '5 pages, 4 figures', 'journal-ref': 'Phys. Rev. Lett. 99, 048301 (2007)', 'doi': '10.1103/PhysRevLett.99.048301', 'report-no': None, 'categories': 'nlin.PS physics.chem-ph q-bio.MN', 'license': None, 'abstract': 'Spatiotemporal pattern formation in a product-activated enzymic reaction at high enzyme concentrations is investigated. Stochastic simulations show that catalytic turnover cycles of individual enzymes can become coherent and that complex wave patterns of molecular synchronization can develop. The analysis based on the mean-field approximation indicates that the observed patterns result from the presence of Hopf and wave bifurcations in the considered system.', 'versions': [{'version': 'v1', 'created': 'Sat, 31 Mar 2007 12:57:59 GMT'}, {'version': 'v2', 'created': 'Tue, 24 Jul 2007 04:01:20 GMT'}], 'update_date': '2007-07-24', 'authors_parsed': [['Casagrande', 'Vanessa', ''], ['Togashi', 'Yuichi', ''], ['Mikhailov', 'Alexander S.', '']]}\n"
     ]
    }
   ],
   "source": [
    "mycorpus=ResearchCorpus(filterCategory='bio')\n",
    "for item in mycorpus:\n",
    "    print(item)\n",
    "    break"
   ]
  },
  {
   "cell_type": "code",
   "execution_count": null,
   "id": "8ad6456c",
   "metadata": {},
   "outputs": [],
   "source": [
    "def fetch_corpus(tokens_only=False):\n",
    "    for i, item in enumerate(data):\n",
    "        tokens = process_text_to_tokens(item['abstract_cleaned'])\n",
    "        if tokens_only:\n",
    "            yield tokens\n",
    "        else:\n",
    "            # For training data, add tags\n",
    "            yield gensim.models.doc2vec.TaggedDocument(tokens, [i])\n",
    "train_corpus = list(fetch_corpus())"
   ]
  },
  {
   "cell_type": "code",
   "execution_count": 44,
   "id": "dfdcb59e",
   "metadata": {},
   "outputs": [
    {
     "name": "stdout",
     "output_type": "stream",
     "text": [
      "1901596\n",
      "TaggedDocument(['a', 'fully', 'differential', 'calculation', 'in', 'perturbative', 'quantum', 'chromodynamics', 'is', 'presented', 'for', 'the', 'production', 'of', 'massive', 'photon', 'pairs', 'at', 'hadron', 'colliders', '.', 'all', 'next-to-leading', 'order', 'perturbative', 'contributions', 'from', 'quark-antiquark', ',', 'gluon-', '(', 'anti', ')', 'quark', ',', 'and', 'gluon-gluon', 'subprocesses', 'are', 'included', ',', 'as', 'well', 'as', 'all-orders', 'resummation', 'of', 'initial-state', 'gluon', 'radiation', 'valid', 'at', 'next-to-next-to-leading', 'logarithmic', 'accuracy', '.', 'the', 'region', 'of', 'phase', 'space', 'is', 'specified', 'in', 'which', 'the', 'calculation', 'is', 'most', 'reliable', '.', 'good', 'agreement', 'is', 'demonstrated', 'with', 'data', 'from', 'the', 'fermilab', 'tevatron', ',', 'and', 'predictions', 'are', 'made', 'for', 'more', 'detailed', 'tests', 'with', 'cdf', 'and', 'do', 'data', '.', 'predictions', 'are', 'shown', 'for', 'distributions', 'of', 'diphoton', 'pairs', 'produced', 'at', 'the', 'energy', 'of', 'the', 'large', 'hadron', 'collider', '(', 'lhc', ')', '.', 'distributions', 'of', 'the', 'diphoton', 'pairs', 'from', 'the', 'decay', 'of', 'a', 'higgs', 'boson', 'are', 'contrasted', 'with', 'those', 'produced', 'from', 'qcd', 'processes', 'at', 'the', 'lhc', ',', 'showing', 'that', 'enhanced', 'sensitivity', 'to', 'the', 'signal', 'can', 'be', 'obtained', 'with', 'judicious', 'selection', 'of', 'events', '.'], [0])\n"
     ]
    }
   ],
   "source": [
    "print(len(train_corpus))\n",
    "print(train_corpus[0])"
   ]
  },
  {
   "cell_type": "code",
   "execution_count": 3,
   "id": "cfaf5aa1",
   "metadata": {},
   "outputs": [],
   "source": [
    "model = gensim.models.doc2vec.Doc2Vec(workers=8,\n",
    "        vector_size=300,\n",
    "        min_count=1,\n",
    "        epochs=20)\n",
    "mycorpus=GensimResearchCorpus(filterCategory='cs.CG')\n",
    "model.build_vocab(mycorpus)"
   ]
  },
  {
   "cell_type": "code",
   "execution_count": null,
   "id": "7b587779",
   "metadata": {},
   "outputs": [],
   "source": [
    "model.train(mycorpus, total_examples=model.corpus_count, epochs=model.epochs)\n",
    "model.save('doc2vec.model')"
   ]
  },
  {
   "cell_type": "code",
   "execution_count": 49,
   "id": "194d1d01",
   "metadata": {},
   "outputs": [
    {
     "name": "stdout",
     "output_type": "stream",
     "text": [
      "{'id': '0704.0001', 'submitter': 'Pavel Nadolsky', 'authors': \"C. Bal\\\\'azs, E. L. Berger, P. M. Nadolsky, C.-P. Yuan\", 'title': 'Calculation of prompt diphoton production cross sections at Tevatron and   LHC energies', 'comments': '37 pages, 15 figures; published version', 'journal-ref': 'Phys.Rev.D76:013009,2007', 'doi': '10.1103/PhysRevD.76.013009', 'report-no': 'ANL-HEP-PR-07-12', 'categories': 'hep-ph', 'license': None, 'abstract': 'A fully differential calculation in perturbative quantum chromodynamics is presented for the production of massive photon pairs at hadron colliders. All next-to-leading order perturbative contributions from quark-antiquark, gluon-(anti)quark, and gluon-gluon subprocesses are included, as well as all-orders resummation of initial-state gluon radiation valid at next-to-next-to-leading logarithmic accuracy. The region of phase space is specified in which the calculation is most reliable. Good agreement is demonstrated with data from the Fermilab Tevatron, and predictions are made for more detailed tests with CDF and DO data. Predictions are shown for distributions of diphoton pairs produced at the energy of the Large Hadron Collider (LHC). Distributions of the diphoton pairs from the decay of a Higgs boson are contrasted with those produced from QCD processes at the LHC, showing that enhanced sensitivity to the signal can be obtained with judicious selection of events.', 'versions': [{'version': 'v1', 'created': 'Mon, 2 Apr 2007 19:18:42 GMT'}, {'version': 'v2', 'created': 'Tue, 24 Jul 2007 20:10:27 GMT'}], 'update_date': '2008-11-26', 'authors_parsed': [['Balázs', 'C.', ''], ['Berger', 'E. L.', ''], ['Nadolsky', 'P. M.', ''], ['Yuan', 'C. -P.', '']], 'abstract_cleaned': 'A fully differential calculation in perturbative quantum chromodynamics is presented for the production of massive photon pairs at hadron colliders. All next-to-leading order perturbative contributions from quark-antiquark, gluon-(anti)quark, and gluon-gluon subprocesses are included, as well as all-orders resummation of initial-state gluon radiation valid at next-to-next-to-leading logarithmic accuracy. The region of phase space is specified in which the calculation is most reliable. Good agreement is demonstrated with data from the Fermilab Tevatron, and predictions are made for more detailed tests with CDF and DO data. Predictions are shown for distributions of diphoton pairs produced at the energy of the Large Hadron Collider (LHC). Distributions of the diphoton pairs from the decay of a Higgs boson are contrasted with those produced from QCD processes at the LHC, showing that enhanced sensitivity to the signal can be obtained with judicious selection of events.'}\n"
     ]
    }
   ],
   "source": [
    "for item in data:\n",
    "    print(data[item])\n",
    "    break"
   ]
  },
  {
   "cell_type": "code",
   "execution_count": 7,
   "id": "8a6c80cf",
   "metadata": {},
   "outputs": [
    {
     "name": "stdout",
     "output_type": "stream",
     "text": [
      "[(1, 0.9708185791969299), (1408977, 0.6843149065971375), (650587, 0.654980480670929), (1605958, 0.652721643447876), (1006155, 0.6524121165275574), (1651709, 0.6365622282028198), (413845, 0.6341181397438049), (674053, 0.6256985664367676), (912483, 0.6205043196678162), (1651431, 0.6166661381721497)]\n"
     ]
    }
   ],
   "source": [
    "mywords='A fully differential calculation in perturbative quantum chromodynamics is presented for the production of massive photon pairs at hadron colliders. All next-to-leading order perturbative contributions from quark-antiquark, gluon-(anti)quark, and gluon-gluon subprocesses are included, as well as all-orders resummation of initial-state gluon radiation valid at next-to-next-to-leading logarithmic accuracy. The region of phase space is specified in which the calculation is most reliable. Good agreement is demonstrated with data from the Fermilab Tevatron, and predictions are made for more detailed tests with CDF and DO data. Predictions are shown for distributions of diphoton pairs produced at the energy of the Large Hadron Collider (LHC). Distributions of the diphoton pairs from the decay of a Higgs boson are contrasted with those produced from QCD processes at the LHC, showing that enhanced sensitivity to the signal can be obtained with judicious selection of events.'\n",
    "inferred_vector = model.infer_vector(item[0])\n",
    "sims = model.dv.most_similar([inferred_vector], topn=10)\n",
    "print(sims)"
   ]
  },
  {
   "cell_type": "code",
   "execution_count": 8,
   "id": "99f0e5dd",
   "metadata": {},
   "outputs": [
    {
     "data": {
      "text/plain": [
       "array([-1.0013140e+00,  4.0306133e-01,  5.5971128e-01, -1.1754535e+00,\n",
       "        3.1602088e-01,  6.4071709e-01,  1.0910295e+00,  9.4841909e-01,\n",
       "       -9.6133089e-01,  8.9431345e-01, -6.7497975e-01,  2.8447074e-01,\n",
       "        1.3727318e-01,  1.5439701e+00,  1.5100721e+00, -1.2547759e+00,\n",
       "        1.1261429e+00,  1.5179043e+00, -8.0948550e-01, -1.6745080e-01,\n",
       "        4.2144296e-01, -1.7269790e-01,  2.8567140e+00,  2.0086612e-03,\n",
       "        4.5736387e-01,  3.4619921e-01,  1.1885920e+00,  7.7597164e-02,\n",
       "       -4.1720903e-01, -1.6880867e+00, -5.9807771e-01,  2.0078202e-01,\n",
       "        1.8543168e+00, -1.1032665e+00, -1.6423437e-01,  1.0417690e+00,\n",
       "        1.4483614e+00, -2.1652377e+00, -8.2058269e-01,  2.3392198e+00,\n",
       "        1.1991348e+00, -9.1008179e-02,  4.0270707e-01, -1.8962623e+00,\n",
       "        5.4783052e-01,  5.7287312e-01, -2.7743673e-01, -6.9246012e-01,\n",
       "        2.3439574e+00,  2.9391301e-01], dtype=float32)"
      ]
     },
     "execution_count": 8,
     "metadata": {},
     "output_type": "execute_result"
    }
   ],
   "source": [
    "inferred_vector"
   ]
  },
  {
   "cell_type": "code",
   "execution_count": 10,
   "id": "21e60a1a",
   "metadata": {},
   "outputs": [],
   "source": [
    "from gensim.test.utils import get_tmpfile\n",
    "fname = get_tmpfile(\"./my_doc2vec_model\")\n",
    "model.save(fname)"
   ]
  },
  {
   "cell_type": "code",
   "execution_count": 2,
   "id": "c06ec72c",
   "metadata": {},
   "outputs": [],
   "source": [
    "model = gensim.models.doc2vec.Doc2Vec.load('doc2vec.model_100_10_None')"
   ]
  },
  {
   "cell_type": "code",
   "execution_count": 3,
   "id": "965329ec",
   "metadata": {},
   "outputs": [
    {
     "data": {
      "text/plain": [
       "1879268"
      ]
     },
     "execution_count": 3,
     "metadata": {},
     "output_type": "execute_result"
    }
   ],
   "source": [
    "len(model.)"
   ]
  },
  {
   "cell_type": "code",
   "execution_count": 3,
   "id": "230cf7d8",
   "metadata": {},
   "outputs": [
    {
     "data": {
      "text/plain": [
       "1901600"
      ]
     },
     "execution_count": 3,
     "metadata": {},
     "output_type": "execute_result"
    }
   ],
   "source": [
    "model.corpus_count"
   ]
  },
  {
   "cell_type": "code",
   "execution_count": null,
   "id": "6beb36d5",
   "metadata": {},
   "outputs": [],
   "source": []
  }
 ],
 "metadata": {
  "kernelspec": {
   "display_name": "Python 3",
   "language": "python",
   "name": "python3"
  },
  "language_info": {
   "codemirror_mode": {
    "name": "ipython",
    "version": 3
   },
   "file_extension": ".py",
   "mimetype": "text/x-python",
   "name": "python",
   "nbconvert_exporter": "python",
   "pygments_lexer": "ipython3",
   "version": "3.8.10"
  }
 },
 "nbformat": 4,
 "nbformat_minor": 5
}
